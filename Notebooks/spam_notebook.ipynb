{
 "cells": [
  {
   "cell_type": "code",
   "execution_count": 27,
   "metadata": {},
   "outputs": [],
   "source": [
    "import pandas as pd\n",
    "import matplotlib.pyplot as plt\n",
    "\n",
    "\n",
    "from nltk.corpus import stopwords\n",
    "from nltk.stem import WordNetLemmatizer\n",
    "import nltk\n",
    "import re\n",
    "\n",
    "from sklearn.model_selection import train_test_split\n",
    "from sklearn.feature_extraction.text import CountVectorizer\n",
    "\n",
    "from sklearn.svm import SVC\n",
    "from sklearn.naive_bayes import MultinomialNB\n",
    "from sklearn.metrics import confusion_matrix\n",
    "from sklearn.metrics import precision_score,recall_score,f1_score\n",
    "\n",
    "import pickle\n"
   ]
  },
  {
   "cell_type": "code",
   "execution_count": 4,
   "metadata": {},
   "outputs": [
    {
     "data": {
      "text/html": [
       "<div>\n",
       "<style scoped>\n",
       "    .dataframe tbody tr th:only-of-type {\n",
       "        vertical-align: middle;\n",
       "    }\n",
       "\n",
       "    .dataframe tbody tr th {\n",
       "        vertical-align: top;\n",
       "    }\n",
       "\n",
       "    .dataframe thead th {\n",
       "        text-align: right;\n",
       "    }\n",
       "</style>\n",
       "<table border=\"1\" class=\"dataframe\">\n",
       "  <thead>\n",
       "    <tr style=\"text-align: right;\">\n",
       "      <th></th>\n",
       "      <th>Category</th>\n",
       "      <th>Message</th>\n",
       "    </tr>\n",
       "  </thead>\n",
       "  <tbody>\n",
       "    <tr>\n",
       "      <th>0</th>\n",
       "      <td>ham</td>\n",
       "      <td>Heehee that was so funny tho</td>\n",
       "    </tr>\n",
       "    <tr>\n",
       "      <th>1</th>\n",
       "      <td>ham</td>\n",
       "      <td>I don wake since. I checked that stuff and saw...</td>\n",
       "    </tr>\n",
       "    <tr>\n",
       "      <th>2</th>\n",
       "      <td>ham</td>\n",
       "      <td>Dai what this da.. Can i send my resume to thi...</td>\n",
       "    </tr>\n",
       "    <tr>\n",
       "      <th>3</th>\n",
       "      <td>ham</td>\n",
       "      <td>U too...</td>\n",
       "    </tr>\n",
       "    <tr>\n",
       "      <th>4</th>\n",
       "      <td>ham</td>\n",
       "      <td>Didn't you get hep b immunisation in nigeria.</td>\n",
       "    </tr>\n",
       "  </tbody>\n",
       "</table>\n",
       "</div>"
      ],
      "text/plain": [
       "  Category                                            Message\n",
       "0      ham                       Heehee that was so funny tho\n",
       "1      ham  I don wake since. I checked that stuff and saw...\n",
       "2      ham  Dai what this da.. Can i send my resume to thi...\n",
       "3      ham                                           U too...\n",
       "4      ham      Didn't you get hep b immunisation in nigeria."
      ]
     },
     "execution_count": 4,
     "metadata": {},
     "output_type": "execute_result"
    }
   ],
   "source": [
    "dataset=pd.read_csv('../Data/train.csv')\n",
    "dataset.head()"
   ]
  },
  {
   "cell_type": "code",
   "execution_count": 5,
   "metadata": {},
   "outputs": [],
   "source": [
    "def clean_text(text):\n",
    "    words_to_remove = set(stopwords.words('english'))\n",
    "    text = text.lower()\n",
    "    # Remove punctuation but keep !, $, @, ? since they exist more in spams than hams as in EDA notebook\n",
    "    text = re.sub(r\"[^\\w\\s!$@?]\", \"\", text)  \n",
    "    text = nltk.word_tokenize(text)\n",
    "    text = [word for word in text if word not in words_to_remove]\n",
    "    text = ' '.join(text)\n",
    "    return text"
   ]
  },
  {
   "cell_type": "code",
   "execution_count": 6,
   "metadata": {},
   "outputs": [],
   "source": [
    "def lemmatize_text(text):\n",
    "    lemmatizer = WordNetLemmatizer()\n",
    "    text = nltk.word_tokenize(text)\n",
    "    text = [lemmatizer.lemmatize(word) for word in text]\n",
    "    text = ' '.join(text)\n",
    "    return text"
   ]
  },
  {
   "cell_type": "code",
   "execution_count": 7,
   "metadata": {},
   "outputs": [
    {
     "name": "stdout",
     "output_type": "stream",
     "text": [
      "before: This is an example of text processing using NLTK.\n",
      "after: example text processing using nltk\n"
     ]
    }
   ],
   "source": [
    "text = \"This is an example of text processing using NLTK.\"\n",
    "cleaned_text = clean_text(text)\n",
    "print(\"before:\", text)\n",
    "print(\"after:\", cleaned_text)"
   ]
  },
  {
   "cell_type": "code",
   "execution_count": 8,
   "metadata": {},
   "outputs": [
    {
     "name": "stdout",
     "output_type": "stream",
     "text": [
      "before: you need to be able to process text data in order to do text classification.\n",
      "after: need able process text data order text classification\n"
     ]
    }
   ],
   "source": [
    "text = \"you need to be able to process text data in order to do text classification.\"\n",
    "cleaned_text = clean_text(text)\n",
    "print(\"before:\", text)\n",
    "print(\"after:\", cleaned_text)"
   ]
  },
  {
   "cell_type": "code",
   "execution_count": 9,
   "metadata": {},
   "outputs": [
    {
     "name": "stdout",
     "output_type": "stream",
     "text": [
      "before: lets check some words like corpora and rocks using NLTK.\n",
      "after: let check some word like corpus and rock using NLTK .\n"
     ]
    }
   ],
   "source": [
    "text = \"lets check some words like corpora and rocks using NLTK.\"\n",
    "cleaned_text = lemmatize_text(text)\n",
    "print(\"before:\", text)\n",
    "print(\"after:\", cleaned_text)"
   ]
  },
  {
   "cell_type": "code",
   "execution_count": 10,
   "metadata": {},
   "outputs": [
    {
     "data": {
      "text/html": [
       "<div>\n",
       "<style scoped>\n",
       "    .dataframe tbody tr th:only-of-type {\n",
       "        vertical-align: middle;\n",
       "    }\n",
       "\n",
       "    .dataframe tbody tr th {\n",
       "        vertical-align: top;\n",
       "    }\n",
       "\n",
       "    .dataframe thead th {\n",
       "        text-align: right;\n",
       "    }\n",
       "</style>\n",
       "<table border=\"1\" class=\"dataframe\">\n",
       "  <thead>\n",
       "    <tr style=\"text-align: right;\">\n",
       "      <th></th>\n",
       "      <th>Category</th>\n",
       "      <th>Message</th>\n",
       "      <th>cleaned_text</th>\n",
       "    </tr>\n",
       "  </thead>\n",
       "  <tbody>\n",
       "    <tr>\n",
       "      <th>0</th>\n",
       "      <td>ham</td>\n",
       "      <td>Heehee that was so funny tho</td>\n",
       "      <td>heehee funny tho</td>\n",
       "    </tr>\n",
       "    <tr>\n",
       "      <th>1</th>\n",
       "      <td>ham</td>\n",
       "      <td>I don wake since. I checked that stuff and saw...</td>\n",
       "      <td>wake since checked stuff saw true available sp...</td>\n",
       "    </tr>\n",
       "    <tr>\n",
       "      <th>2</th>\n",
       "      <td>ham</td>\n",
       "      <td>Dai what this da.. Can i send my resume to thi...</td>\n",
       "      <td>dai da send resume id</td>\n",
       "    </tr>\n",
       "    <tr>\n",
       "      <th>3</th>\n",
       "      <td>ham</td>\n",
       "      <td>U too...</td>\n",
       "      <td>u</td>\n",
       "    </tr>\n",
       "    <tr>\n",
       "      <th>4</th>\n",
       "      <td>ham</td>\n",
       "      <td>Didn't you get hep b immunisation in nigeria.</td>\n",
       "      <td>didnt get hep b immunisation nigeria</td>\n",
       "    </tr>\n",
       "  </tbody>\n",
       "</table>\n",
       "</div>"
      ],
      "text/plain": [
       "  Category                                            Message  \\\n",
       "0      ham                       Heehee that was so funny tho   \n",
       "1      ham  I don wake since. I checked that stuff and saw...   \n",
       "2      ham  Dai what this da.. Can i send my resume to thi...   \n",
       "3      ham                                           U too...   \n",
       "4      ham      Didn't you get hep b immunisation in nigeria.   \n",
       "\n",
       "                                        cleaned_text  \n",
       "0                                   heehee funny tho  \n",
       "1  wake since checked stuff saw true available sp...  \n",
       "2                              dai da send resume id  \n",
       "3                                                  u  \n",
       "4               didnt get hep b immunisation nigeria  "
      ]
     },
     "execution_count": 10,
     "metadata": {},
     "output_type": "execute_result"
    }
   ],
   "source": [
    "dataset['cleaned_text'] = dataset['Message'].apply(clean_text)\n",
    "dataset['cleaned_text'] = dataset['cleaned_text'].apply(lemmatize_text)\n",
    "dataset.head()\n"
   ]
  },
  {
   "cell_type": "code",
   "execution_count": 11,
   "metadata": {},
   "outputs": [
    {
     "data": {
      "text/plain": [
       "'Maybe westshore or hyde park village, the place near my house?'"
      ]
     },
     "execution_count": 11,
     "metadata": {},
     "output_type": "execute_result"
    }
   ],
   "source": [
    "dataset.iloc[10]['Message']"
   ]
  },
  {
   "cell_type": "code",
   "execution_count": 12,
   "metadata": {},
   "outputs": [
    {
     "data": {
      "text/plain": [
       "'maybe westshore hyde park village place near house ?'"
      ]
     },
     "execution_count": 12,
     "metadata": {},
     "output_type": "execute_result"
    }
   ],
   "source": [
    "dataset.iloc[10]['cleaned_text']"
   ]
  },
  {
   "cell_type": "code",
   "execution_count": 13,
   "metadata": {},
   "outputs": [],
   "source": [
    "dataset.drop(['Message'], axis=1, inplace=True)"
   ]
  },
  {
   "cell_type": "markdown",
   "metadata": {},
   "source": [
    "### Why Choose Count Vectorizer Over TF-IDF in Spam Detection?\n",
    "\n",
    "Based on research findings and empirical comparisons between TF-IDF and Bag-of-Words (BOW) approaches, here’s why Count Vectorizer (BOW) might outperform TF-IDF in spam detection:\n",
    "\n",
    "**Spam Signals and Keyword Repetition**\n",
    "   - Spam messages often rely on specific keywords (e.g., \"free,\" \"win,\" \"offer\") that are repeated frequently to grab attention.\n",
    "   - **Count Vectorizer** effectively captures these repetitions, preserving the frequency of such keywords as strong spam signals.\n",
    "   - **TF-IDF**, on the other hand, may downweight these keywords if they appear frequently across many messages, reducing their importance in spam detection.\n",
    "\n",
    "**Example:**  \n",
    "In a spam message like *\"Win a free iPhone! Free entry!\"*, Count Vectorizer highlights the word *\"free\"* as a strong signal due to its high frequency. TF-IDF, however, might reduce the importance of *\"free\"* if it appears commonly in other messages (e.g., non-spam emails)."
   ]
  },
  {
   "cell_type": "code",
   "execution_count": 14,
   "metadata": {},
   "outputs": [
    {
     "data": {
      "text/plain": [
       "(5014, 8326)"
      ]
     },
     "execution_count": 14,
     "metadata": {},
     "output_type": "execute_result"
    }
   ],
   "source": [
    "Count_Vectorizer=CountVectorizer()\n",
    "X_Count=Count_Vectorizer.fit_transform(dataset['cleaned_text'])\n",
    "X_Count.shape"
   ]
  },
  {
   "cell_type": "code",
   "execution_count": 15,
   "metadata": {},
   "outputs": [
    {
     "name": "stderr",
     "output_type": "stream",
     "text": [
      "C:\\Users\\Karim Mahmoud\\AppData\\Local\\Temp\\ipykernel_23860\\1518397032.py:1: FutureWarning: Downcasting behavior in `replace` is deprecated and will be removed in a future version. To retain the old behavior, explicitly call `result.infer_objects(copy=False)`. To opt-in to the future behavior, set `pd.set_option('future.no_silent_downcasting', True)`\n",
      "  y=dataset['Category'].replace({'ham':0, 'spam':1})\n"
     ]
    }
   ],
   "source": [
    "y=dataset['Category'].replace({'ham':0, 'spam':1})"
   ]
  },
  {
   "cell_type": "code",
   "execution_count": 16,
   "metadata": {},
   "outputs": [
    {
     "data": {
      "text/plain": [
       "Category\n",
       "0    4342\n",
       "1     672\n",
       "Name: count, dtype: int64"
      ]
     },
     "execution_count": 16,
     "metadata": {},
     "output_type": "execute_result"
    }
   ],
   "source": [
    "y.value_counts()"
   ]
  },
  {
   "cell_type": "code",
   "execution_count": 17,
   "metadata": {},
   "outputs": [
    {
     "data": {
      "image/png": "[encoded data removed]",
      "text/plain": [
       "<Figure size 640x480 with 1 Axes>"
      ]
     },
     "metadata": {},
     "output_type": "display_data"
    }
   ],
   "source": [
    "fig, ax = plt.subplots()\n",
    "dataset['Category'].value_counts().plot(ax=ax, kind='pie', autopct='%1.1f%%')\n",
    "plt.show()"
   ]
  },
  {
   "cell_type": "markdown",
   "metadata": {},
   "source": [
    "It appears that the dataset in this notebook exhibits a class imbalance. However, we will proceed with the analysis without applying over- or undersampling techniques.the goal now is to optimize the model's performance on the existing data and evaluate its effectiveness using the F1 score as the primary metric."
   ]
  },
  {
   "cell_type": "code",
   "execution_count": 18,
   "metadata": {},
   "outputs": [],
   "source": [
    "X_train_Count, X_cv_Count, y_train_Count, y_cv_Count =  train_test_split(X_Count, y, test_size=0.1,stratify=y, random_state=42)"
   ]
  },
  {
   "cell_type": "code",
   "execution_count": 19,
   "metadata": {},
   "outputs": [],
   "source": [
    "def showscore(yhat,y_acutal):\n",
    "    print(f'recall score: {recall_score(y_acutal,yhat)}')\n",
    "    print(f'precision score: {precision_score(y_acutal,yhat)}')\n",
    "    print(f'f1 score: {f1_score(y_acutal,yhat)}')\n",
    "    print(f'confusion_matrix: {confusion_matrix(y_acutal,yhat)}')    "
   ]
  },
  {
   "cell_type": "code",
   "execution_count": 20,
   "metadata": {},
   "outputs": [
    {
     "name": "stdout",
     "output_type": "stream",
     "text": [
      "recall score: 1.0\n",
      "precision score: 0.7910447761194029\n",
      "f1 score: 0.8833333333333333\n",
      "confusion_matrix: [[435  14]\n",
      " [  0  53]]\n"
     ]
    }
   ],
   "source": [
    "svm = SVC(class_weight='balanced')\n",
    "svm.fit(X_train_Count, y_train_Count)\n",
    "y_pred = svm.predict(X_cv_Count)\n",
    "showscore(y_cv_Count, y_pred)"
   ]
  },
  {
   "cell_type": "code",
   "execution_count": 21,
   "metadata": {},
   "outputs": [
    {
     "name": "stdout",
     "output_type": "stream",
     "text": [
      "recall score: 0.927536231884058\n",
      "precision score: 0.9552238805970149\n",
      "f1 score: 0.9411764705882353\n",
      "confusion_matrix: [[430   3]\n",
      " [  5  64]]\n"
     ]
    }
   ],
   "source": [
    "naive_bayes = MultinomialNB()\n",
    "naive_bayes.fit(X_train_Count, y_train_Count)\n",
    "y_pred = naive_bayes.predict(X_cv_Count)\n",
    "showscore(y_cv_Count, y_pred)"
   ]
  },
  {
   "cell_type": "markdown",
   "metadata": {},
   "source": [
    "### Model Performance and Next Steps\n",
    "\n",
    "The initial analysis indicates that the Naive Bayes model performs well on the dataset. To further enhance the model's performance, we will focus on **feature engineering**. By leveraging insights from the Exploratory Data Analysis (EDA), we will extract and create new features that could potentially improve the model's predictive capabilities. This approach aims to refine the model and achieve better results."
   ]
  },
  {
   "cell_type": "code",
   "execution_count": 22,
   "metadata": {},
   "outputs": [],
   "source": [
    "dataset['total_number'] = dataset['cleaned_text'].apply(lambda x: len(re.findall(r'\\d+', x)))\n",
    "dataset['len'] = dataset['cleaned_text'].apply(lambda x: len(x))\n",
    "\n",
    "X_countvectorized = pd.DataFrame(X_Count.toarray(), columns=Count_Vectorizer.get_feature_names_out())\n",
    "X = pd.concat([dataset[['total_number', 'len']].reset_index(drop=True), X_countvectorized], axis=1)"
   ]
  },
  {
   "cell_type": "code",
   "execution_count": 23,
   "metadata": {},
   "outputs": [],
   "source": [
    "X_train, X_cv, y_train, y_cv =  train_test_split(X, y, test_size=0.1,stratify=y, random_state=42)"
   ]
  },
  {
   "cell_type": "code",
   "execution_count": 24,
   "metadata": {},
   "outputs": [
    {
     "name": "stdout",
     "output_type": "stream",
     "text": [
      "Fitting 5 folds for each of 12 candidates, totalling 60 fits\n",
      "recall score: 1.0\n",
      "precision score: 0.9104477611940298\n",
      "f1 score: 0.953125\n",
      "confusion_matrix: [[435   6]\n",
      " [  0  61]]\n",
      "Best Parameters: {'alpha': 1, 'fit_prior': True}\n"
     ]
    }
   ],
   "source": [
    "from sklearn.naive_bayes import MultinomialNB\n",
    "from sklearn.model_selection import GridSearchCV\n",
    "\n",
    "param_grid = {\n",
    "    'alpha': [0.01, 0.1, 0.5, 1, 5, 10],  \n",
    "    'fit_prior': [True, False]\n",
    "}\n",
    "\n",
    "nb = MultinomialNB()\n",
    "grid_search = GridSearchCV(nb, param_grid, cv=5, scoring='f1', n_jobs=-1, verbose=1)\n",
    "grid_search.fit(X_train, y_train)\n",
    "best_nb = grid_search.best_estimator_\n",
    "y_pred = best_nb.predict(X_cv)\n",
    "showscore(y_cv, y_pred)\n",
    "print(\"Best Parameters:\", grid_search.best_params_)\n"
   ]
  },
  {
   "cell_type": "code",
   "execution_count": 25,
   "metadata": {},
   "outputs": [
    {
     "name": "stdout",
     "output_type": "stream",
     "text": [
      "Fitting 5 folds for each of 18 candidates, totalling 90 fits\n",
      "recall score: 0.9682539682539683\n",
      "precision score: 0.9104477611940298\n",
      "f1 score: 0.9384615384615385\n",
      "confusion_matrix: [[433   6]\n",
      " [  2  61]]\n",
      "Best Parameters: {'C': 1, 'gamma': 'scale', 'kernel': 'linear'}\n"
     ]
    }
   ],
   "source": [
    "from sklearn.svm import SVC\n",
    "from sklearn.model_selection import GridSearchCV\n",
    "\n",
    "param_grid = {\n",
    "    'C': [0.1, 1, 10], \n",
    "    'kernel': ['linear', 'rbf', 'poly'],\n",
    "    'gamma': ['scale', 'auto'],  \n",
    "}\n",
    "\n",
    "svm = SVC(class_weight='balanced')\n",
    "\n",
    "grid_search = GridSearchCV(svm, param_grid, cv=5, scoring='f1', n_jobs=8, verbose=2)\n",
    "grid_search.fit(X_train, y_train)\n",
    "best_svm = grid_search.best_estimator_\n",
    "y_pred = best_svm.predict(X_cv)\n",
    "showscore(y_cv, y_pred)\n",
    "print(\"Best Parameters:\", grid_search.best_params_)\n"
   ]
  },
  {
   "cell_type": "code",
   "execution_count": 84,
   "metadata": {},
   "outputs": [
    {
     "name": "stdout",
     "output_type": "stream",
     "text": [
      "recall score: 0.9836065573770492\n",
      "precision score: 0.8955223880597015\n",
      "f1 score: 0.9375\n",
      "confusion_matrix: [[434   7]\n",
      " [  1  60]]\n"
     ]
    }
   ],
   "source": [
    "import xgboost as xgb\n",
    "\n",
    "model = xgb.XGBClassifier(\n",
    "    scale_pos_weight=(0.87 / 0.13),  \n",
    "    eval_metric='aucpr'  # Optimize for precision-recall\n",
    ")\n",
    "model.fit(X_train, y_train)\n",
    "y_pred = model.predict(X_cv)\n",
    "showscore(y_cv, y_pred)"
   ]
  },
  {
   "cell_type": "markdown",
   "metadata": {},
   "source": [
    "The Naive bayes model performance has shown improvement, with the F1 score increasing from **94.1** to **95.3**. This enhancement reflects the effectiveness of the adjustments made during the modeling process. "
   ]
  },
  {
   "cell_type": "markdown",
   "metadata": {},
   "source": [
    "## models extraction"
   ]
  },
  {
   "cell_type": "code",
   "execution_count": 28,
   "metadata": {},
   "outputs": [],
   "source": [
    "with open('../Models/model.pkl', 'wb') as file:\n",
    "    pickle.dump(best_nb, file)"
   ]
  },
  {
   "cell_type": "code",
   "execution_count": 29,
   "metadata": {},
   "outputs": [],
   "source": [
    "with open('../Models/vectorizer.pkl', 'wb') as file:\n",
    "    pickle.dump(Count_Vectorizer, file)"
   ]
  }
 ],
 "metadata": {
  "kernelspec": {
   "display_name": "base",
   "language": "python",
   "name": "python3"
  },
  "language_info": {
   "codemirror_mode": {
    "name": "ipython",
    "version": 3
   },
   "file_extension": ".py",
   "mimetype": "text/x-python",
   "name": "python",
   "nbconvert_exporter": "python",
   "pygments_lexer": "ipython3",
   "version": "3.11.9"
  }
 },
 "nbformat": 4,
 "nbformat_minor": 2
}
