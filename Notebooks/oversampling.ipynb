{
 "cells": [
  {
   "cell_type": "markdown",
   "metadata": {},
   "source": [
    "# **Handling Class Imbalance: Oversampling & Undersampling Techniques**  \n",
    "\n",
    "This notebook explores methods to improve **model performance** when dealing with **imbalanced datasets**.  \n",
    "We focus on two key techniques:  \n",
    "\n",
    "- **Oversampling**: Increasing the number of samples in the minority class.  \n",
    "- **Undersampling**: Reducing the number of samples in the majority class.  \n",
    "\n",
    "By applying these methods, we aim to **mitigate bias**, enhance model **generalization**, and evaluate their impact on overall performance. This hands-on approach will help in understanding the effectiveness of different resampling techniques in real-world scenarios.  \n"
   ]
  },
  {
   "cell_type": "code",
   "execution_count": 44,
   "metadata": {},
   "outputs": [],
   "source": [
    "import pandas as pd\n",
    "import matplotlib.pyplot as plt\n",
    "\n",
    "\n",
    "from nltk.corpus import stopwords\n",
    "from nltk.stem import WordNetLemmatizer\n",
    "import nltk\n",
    "import re\n",
    "\n",
    "from sklearn.model_selection import train_test_split\n",
    "from sklearn.feature_extraction.text import CountVectorizer\n",
    "\n",
    "from imblearn.over_sampling import SMOTE\n",
    "from imblearn.under_sampling import TomekLinks\n",
    "\n",
    "from sklearn.svm import SVC\n",
    "from sklearn.naive_bayes import MultinomialNB\n",
    "\n",
    "from sklearn.metrics import confusion_matrix\n",
    "from sklearn.metrics import precision_score,recall_score,f1_score,accuracy_score\n"
   ]
  },
  {
   "cell_type": "code",
   "execution_count": 45,
   "metadata": {},
   "outputs": [
    {
     "data": {
      "text/html": [
       "<div>\n",
       "<style scoped>\n",
       "    .dataframe tbody tr th:only-of-type {\n",
       "        vertical-align: middle;\n",
       "    }\n",
       "\n",
       "    .dataframe tbody tr th {\n",
       "        vertical-align: top;\n",
       "    }\n",
       "\n",
       "    .dataframe thead th {\n",
       "        text-align: right;\n",
       "    }\n",
       "</style>\n",
       "<table border=\"1\" class=\"dataframe\">\n",
       "  <thead>\n",
       "    <tr style=\"text-align: right;\">\n",
       "      <th></th>\n",
       "      <th>Category</th>\n",
       "      <th>Message</th>\n",
       "    </tr>\n",
       "  </thead>\n",
       "  <tbody>\n",
       "    <tr>\n",
       "      <th>0</th>\n",
       "      <td>ham</td>\n",
       "      <td>Heehee that was so funny tho</td>\n",
       "    </tr>\n",
       "    <tr>\n",
       "      <th>1</th>\n",
       "      <td>ham</td>\n",
       "      <td>I don wake since. I checked that stuff and saw...</td>\n",
       "    </tr>\n",
       "    <tr>\n",
       "      <th>2</th>\n",
       "      <td>ham</td>\n",
       "      <td>Dai what this da.. Can i send my resume to thi...</td>\n",
       "    </tr>\n",
       "    <tr>\n",
       "      <th>3</th>\n",
       "      <td>ham</td>\n",
       "      <td>U too...</td>\n",
       "    </tr>\n",
       "    <tr>\n",
       "      <th>4</th>\n",
       "      <td>ham</td>\n",
       "      <td>Didn't you get hep b immunisation in nigeria.</td>\n",
       "    </tr>\n",
       "  </tbody>\n",
       "</table>\n",
       "</div>"
      ],
      "text/plain": [
       "  Category                                            Message\n",
       "0      ham                       Heehee that was so funny tho\n",
       "1      ham  I don wake since. I checked that stuff and saw...\n",
       "2      ham  Dai what this da.. Can i send my resume to thi...\n",
       "3      ham                                           U too...\n",
       "4      ham      Didn't you get hep b immunisation in nigeria."
      ]
     },
     "execution_count": 45,
     "metadata": {},
     "output_type": "execute_result"
    }
   ],
   "source": [
    "dataset=pd.read_csv('../Data/train.csv')\n",
    "dataset.head()"
   ]
  },
  {
   "cell_type": "code",
   "execution_count": 46,
   "metadata": {},
   "outputs": [],
   "source": [
    "def clean_text(text):\n",
    "    words_to_remove = set(stopwords.words('english'))\n",
    "    text = text.lower()\n",
    "    # Remove punctuation but keep !, $, @, ? since they exist more in spams than hams as in EDA notebook\n",
    "    text = re.sub(r\"[^\\w\\s!$@?]\", \"\", text)  \n",
    "    text = nltk.word_tokenize(text)\n",
    "    text = [word for word in text if word not in words_to_remove]\n",
    "    text = ' '.join(text)\n",
    "    return text"
   ]
  },
  {
   "cell_type": "code",
   "execution_count": 47,
   "metadata": {},
   "outputs": [],
   "source": [
    "def lemmatize_text(text):\n",
    "    lemmatizer = WordNetLemmatizer()\n",
    "    text = nltk.word_tokenize(text)\n",
    "    text = [lemmatizer.lemmatize(word) for word in text]\n",
    "    text = ' '.join(text)\n",
    "    return text"
   ]
  },
  {
   "cell_type": "code",
   "execution_count": 48,
   "metadata": {},
   "outputs": [
    {
     "data": {
      "text/html": [
       "<div>\n",
       "<style scoped>\n",
       "    .dataframe tbody tr th:only-of-type {\n",
       "        vertical-align: middle;\n",
       "    }\n",
       "\n",
       "    .dataframe tbody tr th {\n",
       "        vertical-align: top;\n",
       "    }\n",
       "\n",
       "    .dataframe thead th {\n",
       "        text-align: right;\n",
       "    }\n",
       "</style>\n",
       "<table border=\"1\" class=\"dataframe\">\n",
       "  <thead>\n",
       "    <tr style=\"text-align: right;\">\n",
       "      <th></th>\n",
       "      <th>Category</th>\n",
       "      <th>Message</th>\n",
       "      <th>cleaned_text</th>\n",
       "    </tr>\n",
       "  </thead>\n",
       "  <tbody>\n",
       "    <tr>\n",
       "      <th>0</th>\n",
       "      <td>ham</td>\n",
       "      <td>Heehee that was so funny tho</td>\n",
       "      <td>heehee funny tho</td>\n",
       "    </tr>\n",
       "    <tr>\n",
       "      <th>1</th>\n",
       "      <td>ham</td>\n",
       "      <td>I don wake since. I checked that stuff and saw...</td>\n",
       "      <td>wake since checked stuff saw true available sp...</td>\n",
       "    </tr>\n",
       "    <tr>\n",
       "      <th>2</th>\n",
       "      <td>ham</td>\n",
       "      <td>Dai what this da.. Can i send my resume to thi...</td>\n",
       "      <td>dai da send resume id</td>\n",
       "    </tr>\n",
       "    <tr>\n",
       "      <th>3</th>\n",
       "      <td>ham</td>\n",
       "      <td>U too...</td>\n",
       "      <td>u</td>\n",
       "    </tr>\n",
       "    <tr>\n",
       "      <th>4</th>\n",
       "      <td>ham</td>\n",
       "      <td>Didn't you get hep b immunisation in nigeria.</td>\n",
       "      <td>didnt get hep b immunisation nigeria</td>\n",
       "    </tr>\n",
       "  </tbody>\n",
       "</table>\n",
       "</div>"
      ],
      "text/plain": [
       "  Category                                            Message  \\\n",
       "0      ham                       Heehee that was so funny tho   \n",
       "1      ham  I don wake since. I checked that stuff and saw...   \n",
       "2      ham  Dai what this da.. Can i send my resume to thi...   \n",
       "3      ham                                           U too...   \n",
       "4      ham      Didn't you get hep b immunisation in nigeria.   \n",
       "\n",
       "                                        cleaned_text  \n",
       "0                                   heehee funny tho  \n",
       "1  wake since checked stuff saw true available sp...  \n",
       "2                              dai da send resume id  \n",
       "3                                                  u  \n",
       "4               didnt get hep b immunisation nigeria  "
      ]
     },
     "execution_count": 48,
     "metadata": {},
     "output_type": "execute_result"
    }
   ],
   "source": [
    "dataset['cleaned_text'] = dataset['Message'].apply(clean_text)\n",
    "dataset['cleaned_text'] = dataset['cleaned_text'].apply(lemmatize_text)\n",
    "dataset.head()\n"
   ]
  },
  {
   "cell_type": "code",
   "execution_count": 49,
   "metadata": {},
   "outputs": [],
   "source": [
    "dataset.drop(['Message'], axis=1, inplace=True)"
   ]
  },
  {
   "cell_type": "code",
   "execution_count": 50,
   "metadata": {},
   "outputs": [
    {
     "data": {
      "text/plain": [
       "(5014, 8326)"
      ]
     },
     "execution_count": 50,
     "metadata": {},
     "output_type": "execute_result"
    }
   ],
   "source": [
    "Count_Vectorizer=CountVectorizer()\n",
    "X_Count=Count_Vectorizer.fit_transform(dataset['cleaned_text'])\n",
    "X_Count.shape"
   ]
  },
  {
   "cell_type": "code",
   "execution_count": 51,
   "metadata": {},
   "outputs": [],
   "source": [
    "def showscore(yhat,y_acutal):\n",
    "    print(f'recall score: {recall_score(y_acutal,yhat)}')\n",
    "    print(f'precision score: {precision_score(y_acutal,yhat)}')\n",
    "    print(f'f1 score: {f1_score(y_acutal,yhat)}')\n",
    "    print(f'confusion_matrix: {confusion_matrix(y_acutal,yhat)}')    "
   ]
  },
  {
   "cell_type": "code",
   "execution_count": 52,
   "metadata": {},
   "outputs": [
    {
     "name": "stderr",
     "output_type": "stream",
     "text": [
      "C:\\Users\\Karim Mahmoud\\AppData\\Local\\Temp\\ipykernel_8884\\1518397032.py:1: FutureWarning: Downcasting behavior in `replace` is deprecated and will be removed in a future version. To retain the old behavior, explicitly call `result.infer_objects(copy=False)`. To opt-in to the future behavior, set `pd.set_option('future.no_silent_downcasting', True)`\n",
      "  y=dataset['Category'].replace({'ham':0, 'spam':1})\n"
     ]
    }
   ],
   "source": [
    "y=dataset['Category'].replace({'ham':0, 'spam':1})"
   ]
  },
  {
   "cell_type": "code",
   "execution_count": 53,
   "metadata": {},
   "outputs": [
    {
     "data": {
      "text/plain": [
       "Category\n",
       "0    4342\n",
       "1     672\n",
       "Name: count, dtype: int64"
      ]
     },
     "execution_count": 53,
     "metadata": {},
     "output_type": "execute_result"
    }
   ],
   "source": [
    "y.value_counts()"
   ]
  },
  {
   "cell_type": "code",
   "execution_count": 54,
   "metadata": {},
   "outputs": [
    {
     "data": {
      "image/png": "[encoded data removed]",
      "text/plain": [
       "<Figure size 640x480 with 1 Axes>"
      ]
     },
     "metadata": {},
     "output_type": "display_data"
    }
   ],
   "source": [
    "fig, ax = plt.subplots()\n",
    "dataset['Category'].value_counts().plot(ax=ax, kind='pie', autopct='%1.1f%%')\n",
    "plt.show()"
   ]
  },
  {
   "cell_type": "code",
   "execution_count": 55,
   "metadata": {},
   "outputs": [],
   "source": [
    "X_train_Count, X_cv_Count, y_train_Count, y_cv_Count =  train_test_split(X_Count, y, test_size=0.1,stratify=y, random_state=42)"
   ]
  },
  {
   "cell_type": "code",
   "execution_count": 56,
   "metadata": {},
   "outputs": [],
   "source": [
    "smote = SMOTE(sampling_strategy='minority')\n",
    "X_train_count_res, y_train_count_res = smote.fit_resample(X_train_Count, y_train_Count)"
   ]
  },
  {
   "cell_type": "code",
   "execution_count": 57,
   "metadata": {},
   "outputs": [
    {
     "data": {
      "image/png": "[encoded data removed]",
      "text/plain": [
       "<Figure size 640x480 with 1 Axes>"
      ]
     },
     "metadata": {},
     "output_type": "display_data"
    }
   ],
   "source": [
    "fig, ax = plt.subplots()\n",
    "y_train_count_res.value_counts().plot(ax=ax, kind='pie', autopct='%1.1f%%')\n",
    "plt.show()"
   ]
  },
  {
   "cell_type": "code",
   "execution_count": 58,
   "metadata": {},
   "outputs": [
    {
     "name": "stdout",
     "output_type": "stream",
     "text": [
      "recall score: 0.6056338028169014\n",
      "precision score: 0.6417910447761194\n",
      "f1 score: 0.6231884057971014\n",
      "confusion_matrix: [[407  24]\n",
      " [ 28  43]]\n"
     ]
    }
   ],
   "source": [
    "svm = SVC(class_weight='balanced')\n",
    "svm.fit(X_train_count_res, y_train_count_res)\n",
    "y_pred = svm.predict(X_cv_Count)\n",
    "showscore(y_cv_Count, y_pred)"
   ]
  },
  {
   "cell_type": "code",
   "execution_count": 59,
   "metadata": {},
   "outputs": [
    {
     "name": "stdout",
     "output_type": "stream",
     "text": [
      "recall score: 0.8955223880597015\n",
      "precision score: 0.8955223880597015\n",
      "f1 score: 0.8955223880597015\n",
      "confusion_matrix: [[428   7]\n",
      " [  7  60]]\n"
     ]
    }
   ],
   "source": [
    "naive_bayes = MultinomialNB()\n",
    "naive_bayes.fit(X_train_count_res, y_train_count_res)\n",
    "y_pred = naive_bayes.predict(X_cv_Count)\n",
    "showscore(y_cv_Count, y_pred)"
   ]
  },
  {
   "cell_type": "code",
   "execution_count": 60,
   "metadata": {},
   "outputs": [
    {
     "name": "stdout",
     "output_type": "stream",
     "text": [
      "recall score: 0.9285714285714286\n",
      "precision score: 0.7761194029850746\n",
      "f1 score: 0.8455284552845529\n",
      "confusion_matrix: [[431  15]\n",
      " [  4  52]]\n"
     ]
    }
   ],
   "source": [
    "import xgboost as xgb\n",
    "\n",
    "model = xgb.XGBClassifier()\n",
    "model.fit(X_train_count_res, y_train_count_res)\n",
    "y_pred = model.predict(X_cv_Count)\n",
    "showscore(y_cv_Count, y_pred)"
   ]
  },
  {
   "cell_type": "markdown",
   "metadata": {},
   "source": [
    "## Observations on SMOTE Performance\n",
    "\n",
    "It appears that applying SMOTE did not improve performance by oversampling the minority class. This could be due to several factors, such as:\n",
    "\n",
    "- The presence of noisy data.\n",
    "- Class overlap, where synthetic samples are generated too close to other classes, leading to misclassification.\n",
    "\n",
    "To address this, we can apply Tomek Links after oversampling. This will help by removing synthetic samples that are too close to a different class, potentially improving model performance. Let's proceed with this approach.\n"
   ]
  },
  {
   "cell_type": "code",
   "execution_count": 66,
   "metadata": {},
   "outputs": [],
   "source": [
    "tl=TomekLinks()\n",
    "X_train_count_res_cleaned, y_train_count_res_cleaned = tl.fit_resample(X_train_count_res, y_train_count_res)"
   ]
  },
  {
   "cell_type": "code",
   "execution_count": 67,
   "metadata": {},
   "outputs": [
    {
     "name": "stdout",
     "output_type": "stream",
     "text": [
      "recall score: 0.6056338028169014\n",
      "precision score: 0.6417910447761194\n",
      "f1 score: 0.6231884057971014\n",
      "confusion_matrix: [[407  24]\n",
      " [ 28  43]]\n"
     ]
    }
   ],
   "source": [
    "svm = SVC(class_weight='balanced')\n",
    "svm.fit(X_train_count_res_cleaned, y_train_count_res_cleaned)\n",
    "y_pred = svm.predict(X_cv_Count)\n",
    "showscore(y_cv_Count, y_pred)"
   ]
  },
  {
   "cell_type": "code",
   "execution_count": 68,
   "metadata": {},
   "outputs": [
    {
     "name": "stdout",
     "output_type": "stream",
     "text": [
      "recall score: 0.8955223880597015\n",
      "precision score: 0.8955223880597015\n",
      "f1 score: 0.8955223880597015\n",
      "confusion_matrix: [[428   7]\n",
      " [  7  60]]\n"
     ]
    }
   ],
   "source": [
    "nb=MultinomialNB()\n",
    "nb.fit(X_train_count_res_cleaned, y_train_count_res_cleaned)\n",
    "y_pred = nb.predict(X_cv_Count)\n",
    "showscore(y_cv_Count, y_pred)"
   ]
  },
  {
   "cell_type": "code",
   "execution_count": 69,
   "metadata": {},
   "outputs": [
    {
     "name": "stdout",
     "output_type": "stream",
     "text": [
      "recall score: 0.9285714285714286\n",
      "precision score: 0.7761194029850746\n",
      "f1 score: 0.8455284552845529\n",
      "confusion_matrix: [[431  15]\n",
      " [  4  52]]\n"
     ]
    }
   ],
   "source": [
    "xgb_model = xgb.XGBClassifier()\n",
    "xgb_model.fit(X_train_count_res_cleaned, y_train_count_res_cleaned)\n",
    "y_pred = xgb_model.predict(X_cv_Count)\n",
    "showscore(y_cv_Count, y_pred)"
   ]
  },
  {
   "cell_type": "markdown",
   "metadata": {},
   "source": [
    "## Conclusion\n",
    "\n",
    "It looks like these methods (SMOTE and Tomek Links) did not improve the model performance. Therefore, we can stick to regular models that handle data imbalance directly, as they may be more suitable for this particular dataset.\n"
   ]
  }
 ],
 "metadata": {
  "kernelspec": {
   "display_name": "base",
   "language": "python",
   "name": "python3"
  },
  "language_info": {
   "codemirror_mode": {
    "name": "ipython",
    "version": 3
   },
   "file_extension": ".py",
   "mimetype": "text/x-python",
   "name": "python",
   "nbconvert_exporter": "python",
   "pygments_lexer": "ipython3",
   "version": "3.11.9"
  }
 },
 "nbformat": 4,
 "nbformat_minor": 2
}
