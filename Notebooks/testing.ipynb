{
 "cells": [
  {
   "cell_type": "code",
   "execution_count": null,
   "metadata": {},
   "outputs": [],
   "source": [
    "import pandas as pd\n",
    "from nltk.corpus import stopwords\n",
    "from nltk.stem import WordNetLemmatizer\n",
    "import nltk\n",
    "import re\n",
    "import pickle\n",
    "\n",
    "from sklearn.metrics import confusion_matrix\n",
    "from sklearn.metrics import precision_score,recall_score,f1_score"
   ]
  },
  {
   "cell_type": "code",
   "execution_count": 2,
   "metadata": {},
   "outputs": [],
   "source": [
    "def clean_text(text):\n",
    "    words_to_remove = set(stopwords.words('english'))\n",
    "    text = text.lower()\n",
    "    # Remove punctuation but keep !, $, @, ? since they exist more in spams than hams as in EDA notebook\n",
    "    text = re.sub(r\"[^\\w\\s!$@?]\", \"\", text)  \n",
    "    text = nltk.word_tokenize(text)\n",
    "    text = [word for word in text if word not in words_to_remove]\n",
    "    text = ' '.join(text)\n",
    "    return text"
   ]
  },
  {
   "cell_type": "code",
   "execution_count": 3,
   "metadata": {},
   "outputs": [],
   "source": [
    "def lemmatize_text(text):\n",
    "    lemmatizer = WordNetLemmatizer()\n",
    "    text = nltk.word_tokenize(text)\n",
    "    text = [lemmatizer.lemmatize(word) for word in text]\n",
    "    text = ' '.join(text)\n",
    "    return text"
   ]
  },
  {
   "cell_type": "code",
   "execution_count": 4,
   "metadata": {},
   "outputs": [],
   "source": [
    "def show_score(yhat,y_acutal):\n",
    "    print(f'recall score: {recall_score(y_acutal,yhat)}')\n",
    "    print(f'precision score: {precision_score(y_acutal,yhat)}')\n",
    "    print(f'f1 score: {f1_score(y_acutal,yhat)}')\n",
    "    print(f'confusion_matrix: {confusion_matrix(y_acutal,yhat)}')    "
   ]
  },
  {
   "cell_type": "code",
   "execution_count": 5,
   "metadata": {},
   "outputs": [],
   "source": [
    "## Load the model\n",
    "model = pickle.load(open('../Models/model.pkl', 'rb'))\n",
    "\n",
    "## load vectorizer\n",
    "vectorizer = pickle.load(open('../Models/vectorizer.pkl', 'rb'))    "
   ]
  },
  {
   "cell_type": "code",
   "execution_count": 6,
   "metadata": {},
   "outputs": [],
   "source": [
    "test_data = pd.read_csv('../Data/test.csv')"
   ]
  },
  {
   "cell_type": "code",
   "execution_count": 7,
   "metadata": {},
   "outputs": [],
   "source": [
    "## Clean the data\n",
    "test_data['Message'] = test_data['Message'].apply(clean_text)\n",
    "test_data['Message'] = test_data['Message'].apply(lemmatize_text)"
   ]
  },
  {
   "cell_type": "code",
   "execution_count": 8,
   "metadata": {},
   "outputs": [],
   "source": [
    "test_data['total_number'] = test_data['Message'].apply(lambda x: len(re.findall(r'\\d+', x)))\n",
    "test_data['len'] = test_data['Message'].apply(lambda x: len(x))\n",
    "\n",
    "X_test_countvectorized = pd.DataFrame(vectorizer.transform(test_data['Message']).toarray(),\n",
    "                                      columns=vectorizer.get_feature_names_out())\n",
    "\n",
    "X_test = pd.concat([test_data[['total_number', 'len']].reset_index(drop=True), X_test_countvectorized], axis=1)"
   ]
  },
  {
   "cell_type": "code",
   "execution_count": 11,
   "metadata": {},
   "outputs": [
    {
     "name": "stderr",
     "output_type": "stream",
     "text": [
      "C:\\Users\\Karim Mahmoud\\AppData\\Local\\Temp\\ipykernel_21416\\2861390798.py:1: FutureWarning: Downcasting behavior in `replace` is deprecated and will be removed in a future version. To retain the old behavior, explicitly call `result.infer_objects(copy=False)`. To opt-in to the future behavior, set `pd.set_option('future.no_silent_downcasting', True)`\n",
      "  test_data['Category'].replace({'ham': 0, 'spam': 1}, inplace=True)\n"
     ]
    }
   ],
   "source": [
    "test_data['Category'].replace({'ham': 0, 'spam': 1}, inplace=True)"
   ]
  },
  {
   "cell_type": "code",
   "execution_count": 12,
   "metadata": {},
   "outputs": [
    {
     "name": "stdout",
     "output_type": "stream",
     "text": [
      "recall score: 0.8666666666666667\n",
      "precision score: 0.9848484848484849\n",
      "f1 score: 0.9219858156028369\n",
      "confusion_matrix: [[482   1]\n",
      " [ 10  65]]\n"
     ]
    }
   ],
   "source": [
    "## predict the test data\n",
    "yhat = model.predict(X_test)\n",
    "show_score(yhat,test_data['Category'])"
   ]
  },
  {
   "cell_type": "code",
   "execution_count": 18,
   "metadata": {},
   "outputs": [],
   "source": [
    "# Assuming:\n",
    "# - test_data is your test dataset with a column 'Category' for true labels\n",
    "# - yhat are the predicted labels from your model\n",
    "\n",
    "# Find correctly classified samples\n",
    "correctly_classified = test_data[test_data['Category'] == yhat]\n",
    "\n",
    "# If you want to see only samples correctly classified as class 1\n",
    "correctly_classified_class_1 = test_data[(test_data['Category'] == yhat) & (yhat == 1)]"
   ]
  },
  {
   "cell_type": "code",
   "execution_count": 19,
   "metadata": {},
   "outputs": [
    {
     "data": {
      "text/html": [
       "<div>\n",
       "<style scoped>\n",
       "    .dataframe tbody tr th:only-of-type {\n",
       "        vertical-align: middle;\n",
       "    }\n",
       "\n",
       "    .dataframe tbody tr th {\n",
       "        vertical-align: top;\n",
       "    }\n",
       "\n",
       "    .dataframe thead th {\n",
       "        text-align: right;\n",
       "    }\n",
       "</style>\n",
       "<table border=\"1\" class=\"dataframe\">\n",
       "  <thead>\n",
       "    <tr style=\"text-align: right;\">\n",
       "      <th></th>\n",
       "      <th>Category</th>\n",
       "      <th>Message</th>\n",
       "      <th>total_number</th>\n",
       "      <th>len</th>\n",
       "    </tr>\n",
       "  </thead>\n",
       "  <tbody>\n",
       "    <tr>\n",
       "      <th>0</th>\n",
       "      <td>0</td>\n",
       "      <td>better still catch let ask sell ltgt</td>\n",
       "      <td>0</td>\n",
       "      <td>36</td>\n",
       "    </tr>\n",
       "    <tr>\n",
       "      <th>1</th>\n",
       "      <td>1</td>\n",
       "      <td>loan purpose 500 75000 homeowner tenant welcom...</td>\n",
       "      <td>4</td>\n",
       "      <td>117</td>\n",
       "    </tr>\n",
       "    <tr>\n",
       "      <th>2</th>\n",
       "      <td>0</td>\n",
       "      <td>every day use sleep ltgt</td>\n",
       "      <td>0</td>\n",
       "      <td>24</td>\n",
       "    </tr>\n",
       "    <tr>\n",
       "      <th>3</th>\n",
       "      <td>0</td>\n",
       "      <td>unless situation go gurl would appropriate</td>\n",
       "      <td>0</td>\n",
       "      <td>42</td>\n",
       "    </tr>\n",
       "    <tr>\n",
       "      <th>4</th>\n",
       "      <td>1</td>\n",
       "      <td>1 nokia tone 4 ur mob every week ! txt nok 870...</td>\n",
       "      <td>7</td>\n",
       "      <td>116</td>\n",
       "    </tr>\n",
       "  </tbody>\n",
       "</table>\n",
       "</div>"
      ],
      "text/plain": [
       "   Category                                            Message  total_number  \\\n",
       "0         0               better still catch let ask sell ltgt             0   \n",
       "1         1  loan purpose 500 75000 homeowner tenant welcom...             4   \n",
       "2         0                           every day use sleep ltgt             0   \n",
       "3         0         unless situation go gurl would appropriate             0   \n",
       "4         1  1 nokia tone 4 ur mob every week ! txt nok 870...             7   \n",
       "\n",
       "   len  \n",
       "0   36  \n",
       "1  117  \n",
       "2   24  \n",
       "3   42  \n",
       "4  116  "
      ]
     },
     "execution_count": 19,
     "metadata": {},
     "output_type": "execute_result"
    }
   ],
   "source": [
    "correctly_classified.head()"
   ]
  },
  {
   "cell_type": "code",
   "execution_count": 21,
   "metadata": {},
   "outputs": [
    {
     "data": {
      "text/html": [
       "<div>\n",
       "<style scoped>\n",
       "    .dataframe tbody tr th:only-of-type {\n",
       "        vertical-align: middle;\n",
       "    }\n",
       "\n",
       "    .dataframe tbody tr th {\n",
       "        vertical-align: top;\n",
       "    }\n",
       "\n",
       "    .dataframe thead th {\n",
       "        text-align: right;\n",
       "    }\n",
       "</style>\n",
       "<table border=\"1\" class=\"dataframe\">\n",
       "  <thead>\n",
       "    <tr style=\"text-align: right;\">\n",
       "      <th></th>\n",
       "      <th>Category</th>\n",
       "      <th>Message</th>\n",
       "      <th>total_number</th>\n",
       "      <th>len</th>\n",
       "    </tr>\n",
       "  </thead>\n",
       "  <tbody>\n",
       "    <tr>\n",
       "      <th>1</th>\n",
       "      <td>1</td>\n",
       "      <td>loan purpose 500 75000 homeowner tenant welcom...</td>\n",
       "      <td>4</td>\n",
       "      <td>117</td>\n",
       "    </tr>\n",
       "    <tr>\n",
       "      <th>4</th>\n",
       "      <td>1</td>\n",
       "      <td>1 nokia tone 4 ur mob every week ! txt nok 870...</td>\n",
       "      <td>7</td>\n",
       "      <td>116</td>\n",
       "    </tr>\n",
       "    <tr>\n",
       "      <th>21</th>\n",
       "      <td>1</td>\n",
       "      <td>double min double txt 12 price linerental late...</td>\n",
       "      <td>5</td>\n",
       "      <td>129</td>\n",
       "    </tr>\n",
       "    <tr>\n",
       "      <th>22</th>\n",
       "      <td>1</td>\n",
       "      <td>get official england poly ringtone colour flag...</td>\n",
       "      <td>4</td>\n",
       "      <td>133</td>\n",
       "    </tr>\n",
       "    <tr>\n",
       "      <th>55</th>\n",
       "      <td>1</td>\n",
       "      <td>1st wk free ! gr8 tone str8 2 u wk txt nokia 8...</td>\n",
       "      <td>9</td>\n",
       "      <td>105</td>\n",
       "    </tr>\n",
       "    <tr>\n",
       "      <th>70</th>\n",
       "      <td>1</td>\n",
       "      <td>urgent ! mobile number awarded 2000 prize guar...</td>\n",
       "      <td>5</td>\n",
       "      <td>109</td>\n",
       "    </tr>\n",
       "    <tr>\n",
       "      <th>77</th>\n",
       "      <td>1</td>\n",
       "      <td>youve tkts euro2004 cup final 800 cash collect...</td>\n",
       "      <td>5</td>\n",
       "      <td>89</td>\n",
       "    </tr>\n",
       "    <tr>\n",
       "      <th>79</th>\n",
       "      <td>1</td>\n",
       "      <td>december ! mobile 11mths ? entitled update lat...</td>\n",
       "      <td>2</td>\n",
       "      <td>116</td>\n",
       "    </tr>\n",
       "    <tr>\n",
       "      <th>80</th>\n",
       "      <td>1</td>\n",
       "      <td>ur cashbalance currently 500 pound maximize ur...</td>\n",
       "      <td>7</td>\n",
       "      <td>119</td>\n",
       "    </tr>\n",
       "    <tr>\n",
       "      <th>86</th>\n",
       "      <td>1</td>\n",
       "      <td>moby pub quizwin 100 high street prize u know ...</td>\n",
       "      <td>4</td>\n",
       "      <td>119</td>\n",
       "    </tr>\n",
       "  </tbody>\n",
       "</table>\n",
       "</div>"
      ],
      "text/plain": [
       "    Category                                            Message  total_number  \\\n",
       "1          1  loan purpose 500 75000 homeowner tenant welcom...             4   \n",
       "4          1  1 nokia tone 4 ur mob every week ! txt nok 870...             7   \n",
       "21         1  double min double txt 12 price linerental late...             5   \n",
       "22         1  get official england poly ringtone colour flag...             4   \n",
       "55         1  1st wk free ! gr8 tone str8 2 u wk txt nokia 8...             9   \n",
       "70         1  urgent ! mobile number awarded 2000 prize guar...             5   \n",
       "77         1  youve tkts euro2004 cup final 800 cash collect...             5   \n",
       "79         1  december ! mobile 11mths ? entitled update lat...             2   \n",
       "80         1  ur cashbalance currently 500 pound maximize ur...             7   \n",
       "86         1  moby pub quizwin 100 high street prize u know ...             4   \n",
       "\n",
       "    len  \n",
       "1   117  \n",
       "4   116  \n",
       "21  129  \n",
       "22  133  \n",
       "55  105  \n",
       "70  109  \n",
       "77   89  \n",
       "79  116  \n",
       "80  119  \n",
       "86  119  "
      ]
     },
     "execution_count": 21,
     "metadata": {},
     "output_type": "execute_result"
    }
   ],
   "source": [
    "correctly_classified_class_1.head(10)"
   ]
  },
  {
   "cell_type": "code",
   "execution_count": null,
   "metadata": {},
   "outputs": [],
   "source": []
  }
 ],
 "metadata": {
  "kernelspec": {
   "display_name": "base",
   "language": "python",
   "name": "python3"
  },
  "language_info": {
   "codemirror_mode": {
    "name": "ipython",
    "version": 3
   },
   "file_extension": ".py",
   "mimetype": "text/x-python",
   "name": "python",
   "nbconvert_exporter": "python",
   "pygments_lexer": "ipython3",
   "version": "3.11.9"
  }
 },
 "nbformat": 4,
 "nbformat_minor": 2
}
